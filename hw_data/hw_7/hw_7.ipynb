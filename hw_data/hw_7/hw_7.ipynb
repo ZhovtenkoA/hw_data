{
 "cells": [
  {
   "cell_type": "code",
   "execution_count": 1,
   "id": "c086d506-e9d4-4b8a-82aa-1cb6da2f7340",
   "metadata": {},
   "outputs": [],
   "source": [
    "import pandas as pd\n",
    "from surprise import Dataset, Reader\n",
    "from surprise import SVDpp, SVD, NMF, NormalPredictor, BaselineOnly, SlopeOne, KNNBasic, KNNWithMeans, KNNBaseline, CoClustering\n",
    "from surprise.model_selection import train_test_split, cross_validate\n",
    "from surprise import accuracy\n",
    "from hyperopt import hp"
   ]
  },
  {
   "cell_type": "code",
   "execution_count": 2,
   "id": "e46054c4-45fe-4e12-9f4d-2880dfc6e117",
   "metadata": {},
   "outputs": [],
   "source": [
    "data = Dataset.load_builtin(name = 'ml-100k' , prompt = True)"
   ]
  },
  {
   "cell_type": "code",
   "execution_count": 3,
   "id": "4cd846ab-77ee-4273-ab99-ceb62ae6cd84",
   "metadata": {},
   "outputs": [
    {
     "name": "stdout",
     "output_type": "stream",
     "text": [
      "Evaluating RMSE, MAE of algorithm SVD on 5 split(s).\n",
      "\n",
      "                  Fold 1  Fold 2  Fold 3  Fold 4  Fold 5  Mean    Std     \n",
      "RMSE (testset)    0.9343  0.9334  0.9410  0.9413  0.9377  0.9375  0.0033  \n",
      "MAE (testset)     0.7364  0.7360  0.7402  0.7415  0.7390  0.7386  0.0021  \n",
      "Fit time          0.71    0.73    0.74    0.73    0.74    0.73    0.01    \n",
      "Test time         0.14    0.08    0.08    0.08    0.14    0.11    0.03    \n",
      "Середня RMSE: 0.9375287661260405\n",
      "Середня MAE: 0.7386240297730693\n"
     ]
    }
   ],
   "source": [
    "# Определение модели SVD\n",
    "model = SVD()\n",
    "\n",
    "# Кросс валидация для оценки точности модели\n",
    "cv_results = cross_validate(model, data, measures=['RMSE', 'MAE'], cv=5, verbose=True)\n",
    "\n",
    "# Средние значения метрик кросс валидации \n",
    "mean_rmse = cv_results['test_rmse'].mean()\n",
    "mean_mae = cv_results['test_mae'].mean()\n",
    "\n",
    "print('Середня RMSE:', mean_rmse)\n",
    "print('Середня MAE:', mean_mae)"
   ]
  },
  {
   "cell_type": "code",
   "execution_count": 4,
   "id": "ffe6f3c9-09c4-4fbb-a651-9e2574674e33",
   "metadata": {},
   "outputs": [
    {
     "name": "stdout",
     "output_type": "stream",
     "text": [
      "Evaluating RMSE, MAE of algorithm SVDpp on 5 split(s).\n",
      "\n",
      "                  Fold 1  Fold 2  Fold 3  Fold 4  Fold 5  Mean    Std     \n",
      "RMSE (testset)    0.9184  0.9186  0.9182  0.9187  0.9229  0.9194  0.0018  \n",
      "MAE (testset)     0.7203  0.7223  0.7219  0.7175  0.7231  0.7210  0.0020  \n",
      "Fit time          12.30   12.29   12.36   12.34   12.38   12.33   0.03    \n",
      "Test time         3.02    3.06    3.08    2.99    3.00    3.03    0.03    \n",
      "Середня RMSE для SVD++: 0.9193739396276712\n",
      "Середня MAE для SVD++: 0.7210184712105903\n"
     ]
    }
   ],
   "source": [
    "# Определение модели SVD++\n",
    "model_svdpp = SVDpp()\n",
    "\n",
    "# Кросс валидация для оценки точности модели\n",
    "cv_results_svdpp = cross_validate(model_svdpp, data, measures=['RMSE', 'MAE'], cv=5, verbose=True)\n",
    "\n",
    "# Средние значения метрик кросс валидаци\n",
    "mean_rmse_svdpp = cv_results_svdpp['test_rmse'].mean()\n",
    "mean_mae_svdpp = cv_results_svdpp['test_mae'].mean()\n",
    "\n",
    "print('Середня RMSE для SVD++:', mean_rmse_svdpp)\n",
    "print('Середня MAE для SVD++:', mean_mae_svdpp)"
   ]
  },
  {
   "cell_type": "code",
   "execution_count": 5,
   "id": "4fc34d4a-c954-47bc-b694-7ccf02d1cf00",
   "metadata": {},
   "outputs": [
    {
     "name": "stdout",
     "output_type": "stream",
     "text": [
      "Evaluating RMSE, MAE of algorithm NMF on 5 split(s).\n",
      "\n",
      "                  Fold 1  Fold 2  Fold 3  Fold 4  Fold 5  Mean    Std     \n",
      "RMSE (testset)    0.9664  0.9695  0.9599  0.9615  0.9627  0.9640  0.0035  \n",
      "MAE (testset)     0.7591  0.7610  0.7542  0.7564  0.7537  0.7569  0.0028  \n",
      "Fit time          1.33    1.37    1.35    1.33    1.42    1.36    0.03    \n",
      "Test time         0.14    0.08    0.08    0.15    0.07    0.10    0.04    \n",
      "Середня RMSE для NMF: 0.9640164219534402\n",
      "Середня MAE для NMF: 0.7568713120657145\n"
     ]
    }
   ],
   "source": [
    "# Определение модели NMF\n",
    "model_nmf = NMF()\n",
    "\n",
    "# Кросс валидация для оценки точности модели\n",
    "cv_results_nmf = cross_validate(model_nmf, data, measures=['RMSE', 'MAE'], cv=5, verbose=True)\n",
    "\n",
    "# Средние значения метрик кросс валидации\n",
    "mean_rmse_nmf = cv_results_nmf['test_rmse'].mean()\n",
    "mean_mae_nmf = cv_results_nmf['test_mae'].mean()\n",
    "\n",
    "print('Середня RMSE для NMF:', mean_rmse_nmf)\n",
    "print('Середня MAE для NMF:', mean_mae_nmf)"
   ]
  },
  {
   "cell_type": "markdown",
   "id": "d874a6fa-2487-47f8-90dd-844a5530b4ef",
   "metadata": {},
   "source": [
    "Выводы:\r\n",
    "\r\n",
    "Алгоритм SVD++ демонстрирует более высокую точность, с более низкими значениями RMSE и MAE, по сравнению с алгоритмами SVD и NMF.\r\n",
    "Однако, алгоритм SVD++ требует значительно больше времени для обучения и тестирования по сравнению с SVD и NMF.\r\n",
    "Если точность является основным критерием и время выполнения не является проблемой, то алгоритм SVD++ может быть предпочтительным выбором.\r\n",
    "В противном случае, если время выполнения имеет большее значение, алгоритм SVD может быть более эффективным выбором, так как он обеспечивает сравнимую точность с более низким временем обучения и тестирования.\r\n",
    "В целом, выбор между этими алгоритмами зависит от конкретных требований приложения и баланса между точностью и временем выполнения."
   ]
  }
 ],
 "metadata": {
  "kernelspec": {
   "display_name": "Python 3 (ipykernel)",
   "language": "python",
   "name": "python3"
  },
  "language_info": {
   "codemirror_mode": {
    "name": "ipython",
    "version": 3
   },
   "file_extension": ".py",
   "mimetype": "text/x-python",
   "name": "python",
   "nbconvert_exporter": "python",
   "pygments_lexer": "ipython3",
   "version": "3.10.8"
  }
 },
 "nbformat": 4,
 "nbformat_minor": 5
}
