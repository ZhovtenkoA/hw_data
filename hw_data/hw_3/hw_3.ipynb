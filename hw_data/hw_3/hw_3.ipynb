{
 "cells": [
  {
   "cell_type": "code",
   "execution_count": 1,
   "id": "825bef11-f91e-4333-89d0-00104ec1ddbf",
   "metadata": {},
   "outputs": [],
   "source": [
    "import numpy as np\n",
    "import pandas as pd\n",
    "import matplotlib.pyplot as plt\n",
    "from sklearn.linear_model import LinearRegression\n"
   ]
  },
  {
   "cell_type": "markdown",
   "id": "9c760dea-33e7-4e4c-bcfa-2db6bd774476",
   "metadata": {},
   "source": [
    "Напишіть функцію гіпотези лінійної регресії у векторному вигляді"
   ]
  },
  {
   "cell_type": "code",
   "execution_count": 2,
   "id": "fcd6a8e5-c7b2-444a-875b-0adf1775f76f",
   "metadata": {},
   "outputs": [],
   "source": [
    "def linear_reg_hypo(X, w):\n",
    "  return np.dot(X, w)\n"
   ]
  },
  {
   "cell_type": "markdown",
   "id": "2693319a-b8bd-48f6-a3b2-76e25f6911fd",
   "metadata": {},
   "source": [
    "Створіть функцію для обчислення функції втрат у векторному вигляді"
   ]
  },
  {
   "cell_type": "code",
   "execution_count": 3,
   "id": "7894045b-af99-4402-8b1e-90a74824ef1d",
   "metadata": {},
   "outputs": [],
   "source": [
    "def cost_function(w, X, y):\n",
    "    m = len(y)  # кількість спостережень\n",
    "    h = np.dot(X, w)  # гіпотеза лінійної регресії\n",
    "    squared_errors = np.square(h - y)  # квадрат помилок\n",
    "    J = (1 / (2 * m)) * np.sum(squared_errors)  # значення функції втрат\n",
    "    return J"
   ]
  },
  {
   "cell_type": "markdown",
   "id": "b64e3374-5571-40ba-9f38-083038485f80",
   "metadata": {},
   "source": [
    "Реалізуйте один крок градієнтного спуску"
   ]
  },
  {
   "cell_type": "code",
   "execution_count": 4,
   "id": "71e7c354-bc72-491b-9654-ac15e4c84815",
   "metadata": {},
   "outputs": [],
   "source": [
    "def gradient_descent_step(w, X, y, learning_rate):\n",
    "    m = len(y)  # кількість спостережень\n",
    "    h = np.dot(X, w)  # гіпотеза лінійної регресії\n",
    "    gradient = (1 / m) * np.dot(X.T, (h - y))  # обчислення градієнта\n",
    "    w = w - learning_rate * gradient  # оновлення параметрів\n",
    "    return w"
   ]
  },
  {
   "cell_type": "markdown",
   "id": "2ca42079-5e0a-450e-a345-ff01d0b6e123",
   "metadata": {},
   "source": [
    "Знайдіть найкращі параметри для датасету прогнозуючу ціну на будинок залежно від площі, кількості ванних кімнат та кількості спалень"
   ]
  },
  {
   "cell_type": "code",
   "execution_count": 5,
   "id": "98a7001d-36ee-41aa-873b-5da6a80a34fd",
   "metadata": {},
   "outputs": [
    {
     "data": {
      "text/html": [
       "<div>\n",
       "<style scoped>\n",
       "    .dataframe tbody tr th:only-of-type {\n",
       "        vertical-align: middle;\n",
       "    }\n",
       "\n",
       "    .dataframe tbody tr th {\n",
       "        vertical-align: top;\n",
       "    }\n",
       "\n",
       "    .dataframe thead th {\n",
       "        text-align: right;\n",
       "    }\n",
       "</style>\n",
       "<table border=\"1\" class=\"dataframe\">\n",
       "  <thead>\n",
       "    <tr style=\"text-align: right;\">\n",
       "      <th></th>\n",
       "      <th>price</th>\n",
       "      <th>area</th>\n",
       "      <th>bedrooms</th>\n",
       "      <th>bathrooms</th>\n",
       "      <th>stories</th>\n",
       "      <th>mainroad</th>\n",
       "      <th>guestroom</th>\n",
       "      <th>basement</th>\n",
       "      <th>hotwaterheating</th>\n",
       "      <th>airconditioning</th>\n",
       "      <th>parking</th>\n",
       "      <th>prefarea</th>\n",
       "      <th>furnishingstatus</th>\n",
       "    </tr>\n",
       "  </thead>\n",
       "  <tbody>\n",
       "    <tr>\n",
       "      <th>0</th>\n",
       "      <td>13300000</td>\n",
       "      <td>7420</td>\n",
       "      <td>4</td>\n",
       "      <td>2</td>\n",
       "      <td>3</td>\n",
       "      <td>yes</td>\n",
       "      <td>no</td>\n",
       "      <td>no</td>\n",
       "      <td>no</td>\n",
       "      <td>yes</td>\n",
       "      <td>2</td>\n",
       "      <td>yes</td>\n",
       "      <td>furnished</td>\n",
       "    </tr>\n",
       "    <tr>\n",
       "      <th>1</th>\n",
       "      <td>12250000</td>\n",
       "      <td>8960</td>\n",
       "      <td>4</td>\n",
       "      <td>4</td>\n",
       "      <td>4</td>\n",
       "      <td>yes</td>\n",
       "      <td>no</td>\n",
       "      <td>no</td>\n",
       "      <td>no</td>\n",
       "      <td>yes</td>\n",
       "      <td>3</td>\n",
       "      <td>no</td>\n",
       "      <td>furnished</td>\n",
       "    </tr>\n",
       "    <tr>\n",
       "      <th>2</th>\n",
       "      <td>12250000</td>\n",
       "      <td>9960</td>\n",
       "      <td>3</td>\n",
       "      <td>2</td>\n",
       "      <td>2</td>\n",
       "      <td>yes</td>\n",
       "      <td>no</td>\n",
       "      <td>yes</td>\n",
       "      <td>no</td>\n",
       "      <td>no</td>\n",
       "      <td>2</td>\n",
       "      <td>yes</td>\n",
       "      <td>semi-furnished</td>\n",
       "    </tr>\n",
       "    <tr>\n",
       "      <th>3</th>\n",
       "      <td>12215000</td>\n",
       "      <td>7500</td>\n",
       "      <td>4</td>\n",
       "      <td>2</td>\n",
       "      <td>2</td>\n",
       "      <td>yes</td>\n",
       "      <td>no</td>\n",
       "      <td>yes</td>\n",
       "      <td>no</td>\n",
       "      <td>yes</td>\n",
       "      <td>3</td>\n",
       "      <td>yes</td>\n",
       "      <td>furnished</td>\n",
       "    </tr>\n",
       "    <tr>\n",
       "      <th>4</th>\n",
       "      <td>11410000</td>\n",
       "      <td>7420</td>\n",
       "      <td>4</td>\n",
       "      <td>1</td>\n",
       "      <td>2</td>\n",
       "      <td>yes</td>\n",
       "      <td>yes</td>\n",
       "      <td>yes</td>\n",
       "      <td>no</td>\n",
       "      <td>yes</td>\n",
       "      <td>2</td>\n",
       "      <td>no</td>\n",
       "      <td>furnished</td>\n",
       "    </tr>\n",
       "  </tbody>\n",
       "</table>\n",
       "</div>"
      ],
      "text/plain": [
       "      price  area  bedrooms  bathrooms  stories mainroad guestroom basement  \\\n",
       "0  13300000  7420         4          2        3      yes        no       no   \n",
       "1  12250000  8960         4          4        4      yes        no       no   \n",
       "2  12250000  9960         3          2        2      yes        no      yes   \n",
       "3  12215000  7500         4          2        2      yes        no      yes   \n",
       "4  11410000  7420         4          1        2      yes       yes      yes   \n",
       "\n",
       "  hotwaterheating airconditioning  parking prefarea furnishingstatus  \n",
       "0              no             yes        2      yes        furnished  \n",
       "1              no             yes        3       no        furnished  \n",
       "2              no              no        2      yes   semi-furnished  \n",
       "3              no             yes        3      yes        furnished  \n",
       "4              no             yes        2       no        furnished  "
      ]
     },
     "metadata": {},
     "output_type": "display_data"
    },
    {
     "data": {
      "text/plain": [
       "price               0\n",
       "area                0\n",
       "bedrooms            0\n",
       "bathrooms           0\n",
       "stories             0\n",
       "mainroad            0\n",
       "guestroom           0\n",
       "basement            0\n",
       "hotwaterheating     0\n",
       "airconditioning     0\n",
       "parking             0\n",
       "prefarea            0\n",
       "furnishingstatus    0\n",
       "dtype: int64"
      ]
     },
     "metadata": {},
     "output_type": "display_data"
    },
    {
     "data": {
      "text/plain": [
       "price                int64\n",
       "area                 int64\n",
       "bedrooms             int64\n",
       "bathrooms            int64\n",
       "stories              int64\n",
       "mainroad            object\n",
       "guestroom           object\n",
       "basement            object\n",
       "hotwaterheating     object\n",
       "airconditioning     object\n",
       "parking              int64\n",
       "prefarea            object\n",
       "furnishingstatus    object\n",
       "dtype: object"
      ]
     },
     "metadata": {},
     "output_type": "display_data"
    }
   ],
   "source": [
    "df = pd.read_csv('Housing.csv')\n",
    "display(df.head())\n",
    "df.replace('NaN', np.nan, inplace=True)\n",
    "display(df.isnull().sum())\n",
    "display(df.dtypes)\n",
    "\n"
   ]
  },
  {
   "cell_type": "code",
   "execution_count": 6,
   "id": "65888405-5bee-42f5-8ec4-1beb993cc1ce",
   "metadata": {},
   "outputs": [
    {
     "name": "stdout",
     "output_type": "stream",
     "text": [
      "Scikit-learn coeficients: [3.78762754e+02 4.06820034e+05 1.38604950e+06]\n",
      "Scikit-learn intercept: -173171.6076326333\n"
     ]
    }
   ],
   "source": [
    "features = ['area', 'bedrooms', 'bathrooms']\n",
    "X = df[features]\n",
    "y = df['price']\n",
    "model = LinearRegression()\n",
    "model.fit(X, y)\n",
    "\n",
    "print(f'Scikit-learn coeficients: {model.coef_}')\n",
    "print(f'Scikit-learn intercept: {model.intercept_}')"
   ]
  },
  {
   "cell_type": "markdown",
   "id": "2993be3c-1fc4-43f2-ba42-2ace40381ec6",
   "metadata": {},
   "source": [
    "Знайдіть ці ж параметри за допомогою аналітичного рішення"
   ]
  },
  {
   "cell_type": "code",
   "execution_count": 7,
   "id": "a15003da-62ac-4b81-a5ec-d16658a660a3",
   "metadata": {},
   "outputs": [
    {
     "name": "stdout",
     "output_type": "stream",
     "text": [
      "Analytic learn coefficients: [3.78762754e+02 4.06820034e+05 1.38604950e+06]\n",
      "Analytic learn intercept: -173171.6076326356\n"
     ]
    }
   ],
   "source": [
    "# Створюємо масив, заповнений одиницями для додавання його до масиву X та зміщення інших значень вниз\n",
    "X_ones = np.ones((X.shape[0], 1))\n",
    "# Об'єднуємо кортеж масивів горизонтально\n",
    "X = np.hstack((X_ones, X))\n",
    "# Шукаємо коефіцієнти та інтерсепт\n",
    "w = np.dot(np.dot(np.linalg.inv(np.dot(X.T, X)), X.T), y)\n",
    "\n",
    "print(f'Analytic learn coefficients: {w[1:]}')\n",
    "print(f'Analytic learn intercept: {w[0]}')"
   ]
  },
  {
   "cell_type": "markdown",
   "id": "6a89b6ef-4bad-4947-a3db-abd74b387a8c",
   "metadata": {},
   "source": [
    "Порівняйте отримані результати"
   ]
  },
  {
   "cell_type": "markdown",
   "id": "e10cad5d-c27e-44a2-a8a8-c564d82d3c0b",
   "metadata": {},
   "source": [
    "Обидва методи мають майже ідентичний результат. "
   ]
  },
  {
   "cell_type": "code",
   "execution_count": null,
   "id": "7e8303c1-37fe-429f-90de-dee8aaff5984",
   "metadata": {},
   "outputs": [],
   "source": []
  },
  {
   "cell_type": "code",
   "execution_count": null,
   "id": "4b5183e0-b931-4e69-8178-c9344cd01171",
   "metadata": {},
   "outputs": [],
   "source": []
  }
 ],
 "metadata": {
  "kernelspec": {
   "display_name": "Python 3 (ipykernel)",
   "language": "python",
   "name": "python3"
  },
  "language_info": {
   "codemirror_mode": {
    "name": "ipython",
    "version": 3
   },
   "file_extension": ".py",
   "mimetype": "text/x-python",
   "name": "python",
   "nbconvert_exporter": "python",
   "pygments_lexer": "ipython3",
   "version": "3.10.8"
  }
 },
 "nbformat": 4,
 "nbformat_minor": 5
}
