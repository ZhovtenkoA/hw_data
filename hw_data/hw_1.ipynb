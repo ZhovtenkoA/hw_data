{
 "cells": [
  {
   "cell_type": "markdown",
   "id": "2aca2001-46e0-462e-814c-00546bfdcded",
   "metadata": {},
   "source": [
    "1. Створіть одновимірний масив (вектор) з першими 10-ма натуральними числами та виведіть його значення."
   ]
  },
  {
   "cell_type": "code",
   "execution_count": 19,
   "id": "5fae82a2-2f53-453b-80ee-0a829417c4b6",
   "metadata": {},
   "outputs": [
    {
     "data": {
      "text/plain": [
       "array([ 1,  2,  3,  4,  5,  6,  7,  8,  9, 10])"
      ]
     },
     "execution_count": 19,
     "metadata": {},
     "output_type": "execute_result"
    }
   ],
   "source": [
    "import numpy as np\n",
    "a = np.array(range(1,11))\n",
    "a"
   ]
  },
  {
   "cell_type": "markdown",
   "id": "99f9857b-2fea-4312-a86a-e92b872eb4b1",
   "metadata": {},
   "source": [
    "2. Створіть двовимірний масив (матрицю) розміром 3x3, заповніть його нулями та виведіть його значення."
   ]
  },
  {
   "cell_type": "code",
   "execution_count": 20,
   "id": "b8580f62-8386-430e-ba8a-3feb47fff783",
   "metadata": {},
   "outputs": [
    {
     "data": {
      "text/plain": [
       "array([[0, 0, 0],\n",
       "       [0, 0, 0],\n",
       "       [0, 0, 0]])"
      ]
     },
     "execution_count": 20,
     "metadata": {},
     "output_type": "execute_result"
    }
   ],
   "source": [
    "a = np.zeros((3, 3), dtype = int)\n",
    "a"
   ]
  },
  {
   "cell_type": "markdown",
   "id": "0062eaa0-7043-4373-bb9e-5387f0c10776",
   "metadata": {
    "jp-MarkdownHeadingCollapsed": true
   },
   "source": [
    "3. Створіть масив розміром 5x5, заповніть його випадковими цілими числами в діапазоні від 1 до 10 та виведіть його значення."
   ]
  },
  {
   "cell_type": "code",
   "execution_count": 21,
   "id": "bf876a42-8d45-41e4-9eaa-ea48f625b7e1",
   "metadata": {},
   "outputs": [
    {
     "data": {
      "text/plain": [
       "array([[ 4,  6,  3, 10,  6],\n",
       "       [10,  5,  5, 10,  6],\n",
       "       [ 5,  9,  8,  1,  4],\n",
       "       [ 7,  6,  1,  7,  7],\n",
       "       [ 4,  6,  2,  3, 10]])"
      ]
     },
     "execution_count": 21,
     "metadata": {},
     "output_type": "execute_result"
    }
   ],
   "source": [
    "import random\n",
    "a = np.random.randint(1, 11, (5, 5))\n",
    "a"
   ]
  },
  {
   "cell_type": "markdown",
   "id": "9f531deb-ba74-44f4-92a0-a6c29ca58d4a",
   "metadata": {},
   "source": [
    "4. Створіть масив розміром 4x4, заповніть його випадковими дійсними числами в діапазоні від 0 до 1 та виведіть його значення.\r\n"
   ]
  },
  {
   "cell_type": "code",
   "execution_count": 22,
   "id": "da6757a0-757a-473d-bb4e-27b0ca0476c3",
   "metadata": {},
   "outputs": [
    {
     "data": {
      "text/plain": [
       "array([[0, 0, 0, 1],\n",
       "       [0, 1, 1, 0],\n",
       "       [1, 1, 0, 0],\n",
       "       [0, 1, 1, 0]])"
      ]
     },
     "execution_count": 22,
     "metadata": {},
     "output_type": "execute_result"
    }
   ],
   "source": [
    "a = np.random.randint(0,2, (4,4), dtype = int)\n",
    "a"
   ]
  },
  {
   "cell_type": "markdown",
   "id": "fefc13b2-0685-49c1-b30e-be1effc36072",
   "metadata": {},
   "source": [
    "5. Створіть два одновимірних масиви розміром 5, заповніть їх випадковими цілими числами в діапазоні від 1 до 10 та виконайте на них поелементні операції додавання, віднімання та множення.\r\n"
   ]
  },
  {
   "cell_type": "code",
   "execution_count": 23,
   "id": "57540af3-b320-480e-a7f3-c691ad6fbcc0",
   "metadata": {},
   "outputs": [
    {
     "name": "stdout",
     "output_type": "stream",
     "text": [
      "[ 7  2  7  6 10]\n",
      "[5 4 3 7 1]\n",
      "Додавання - [12  6 10 13 11]\n",
      "Віднімання - [ 2 -2  4 -1  9]\n",
      "Множення - [35  8 21 42 10]\n"
     ]
    }
   ],
   "source": [
    "a = np.random.randint (1, 11, 5, dtype = int)\n",
    "b = np.random.randint (1, 11, 5, dtype = int)\n",
    "print(a)\n",
    "print(b)\n",
    "print(f\"Додавання - {a+b}\")\n",
    "print(f\"Віднімання - {a-b}\")\n",
    "print(f\"Множення - {a*b}\")"
   ]
  },
  {
   "cell_type": "markdown",
   "id": "63c65f4c-6ced-4dc1-9928-bdd86da0b389",
   "metadata": {},
   "source": [
    "6. Створіть два вектори розміром 7, заповніть довільними числами та знайдіть їх скалярний добуток.\r\n"
   ]
  },
  {
   "cell_type": "code",
   "execution_count": 24,
   "id": "d6b6b934-7ae7-46ea-8ff0-0199676c43c9",
   "metadata": {},
   "outputs": [
    {
     "name": "stdout",
     "output_type": "stream",
     "text": [
      "[0.14898135 0.1980994  0.01742009 0.36975273 0.12728607 0.83385675\n",
      " 0.27883073]\n",
      "[0.6123159  0.86099612 0.04106005 0.78456756 0.29002323 0.99588101\n",
      " 0.41304085]\n",
      "1.5351042273439608\n"
     ]
    }
   ],
   "source": [
    "a = np.random.rand(7)\n",
    "b = np.random.rand(7)\n",
    "print(a)\n",
    "print(b)\n",
    "c = np.dot(a, b)\n",
    "print(c)"
   ]
  },
  {
   "cell_type": "markdown",
   "id": "e53e9958-bfbd-43cd-9d47-5e20a9b47b8b",
   "metadata": {},
   "source": [
    "7. Створіть дві матриці розміром 2x2 та 2x3, заповніть їх випадковими цілими числами в діапазоні від 1 до 10 та перемножте їх між собою.\r\n"
   ]
  },
  {
   "cell_type": "code",
   "execution_count": 25,
   "id": "9ab3b63c-e2ba-4454-bd3c-a74601bc3476",
   "metadata": {},
   "outputs": [
    {
     "name": "stdout",
     "output_type": "stream",
     "text": [
      "[[5 2]\n",
      " [2 6]]\n",
      "[[9 3 8]\n",
      " [8 3 8]]\n",
      "[[61 21 56]\n",
      " [66 24 64]]\n"
     ]
    }
   ],
   "source": [
    "a = np.random.randint(1,11, (2,2))\n",
    "b = np.random.randint(1,11, (2,3))\n",
    "print(a)       \n",
    "print(b)  \n",
    "c = np.dot(a, b)\n",
    "print(c)"
   ]
  },
  {
   "cell_type": "markdown",
   "id": "1cb4a58a-bcd2-4ddd-a9ec-337a05abe723",
   "metadata": {},
   "source": [
    "8. Створіть матрицю розміром 3x3, заповніть її випадковими цілими числами в діапазоні від 1 до 10 та знайдіть її обернену матрицю.\r\n"
   ]
  },
  {
   "cell_type": "code",
   "execution_count": 26,
   "id": "27f144a4-3de6-4023-a100-c6ec3074469e",
   "metadata": {},
   "outputs": [
    {
     "name": "stdout",
     "output_type": "stream",
     "text": [
      "[[ 2 10  5]\n",
      " [ 7  3  2]\n",
      " [ 4  6 10]]\n",
      "[[-0.04147465  0.16129032 -0.01152074]\n",
      " [ 0.14285714  0.         -0.07142857]\n",
      " [-0.06912442 -0.06451613  0.14746544]]\n"
     ]
    }
   ],
   "source": [
    "a = np.random.randint(1, 11, (3, 3))\n",
    "print(a)\n",
    "a_inv = np.linalg.inv(a)\n",
    "print(a_inv)"
   ]
  },
  {
   "cell_type": "markdown",
   "id": "3e817950-2a1b-4506-90ba-675164f0e46c",
   "metadata": {},
   "source": [
    "9. Створіть матрицю розміром 4x4, заповніть її випадковими дійсними числами в діапазоні від 0 до 1 та транспонуйте її.\r\n"
   ]
  },
  {
   "cell_type": "code",
   "execution_count": 27,
   "id": "243fd4b3-bdd4-436e-8341-61f1afc1c626",
   "metadata": {},
   "outputs": [
    {
     "name": "stdout",
     "output_type": "stream",
     "text": [
      "[[1 0 0 0]\n",
      " [1 0 0 1]\n",
      " [0 1 0 1]\n",
      " [0 0 0 0]]\n",
      "[[1 1 0 0]\n",
      " [0 0 1 0]\n",
      " [0 0 0 0]\n",
      " [0 1 1 0]]\n"
     ]
    }
   ],
   "source": [
    "a = np.random.randint(0,2, (4,4))\n",
    "print(a)\n",
    "a_trans = a.T\n",
    "print(a_trans)"
   ]
  },
  {
   "cell_type": "markdown",
   "id": "73b4fe49-0517-4eed-9bcf-b22823acbd50",
   "metadata": {},
   "source": [
    "10. Створіть матрицю розміром 3x4 та вектор розміром 4, заповніть їх випадковими цілими числами в діапазоні від 1 до 10 та перемножте матрицю на вектор.\r\n"
   ]
  },
  {
   "cell_type": "code",
   "execution_count": 28,
   "id": "0e5d11b1-5895-463e-8534-0303ab029545",
   "metadata": {},
   "outputs": [
    {
     "name": "stdout",
     "output_type": "stream",
     "text": [
      "[[ 8  5  2  4]\n",
      " [ 1  8  8  3]\n",
      " [10 10  9  8]]\n",
      "[ 3  9 10  2]\n",
      "[ 97 161 226]\n"
     ]
    }
   ],
   "source": [
    "a = np.random.randint(1,11, (3,4))\n",
    "b = np.random.randint(1, 11, 4)\n",
    "c = np.dot(a, b)\n",
    "print(a)\n",
    "print(b)\n",
    "print(c)"
   ]
  },
  {
   "cell_type": "markdown",
   "id": "cf61c92f-d371-45a8-8a0f-be5eb18fd44b",
   "metadata": {},
   "source": [
    "11. Створіть матрицю розміром 2x3 та вектор розміром 3, заповніть їх випадковими дійсними числами в діапазоні від 0 до 1 та перемножте матрицю на вектор.\r\n"
   ]
  },
  {
   "cell_type": "code",
   "execution_count": 29,
   "id": "363fd77d-6d9f-4607-b8af-a9841cad4718",
   "metadata": {},
   "outputs": [
    {
     "name": "stdout",
     "output_type": "stream",
     "text": [
      "[[0 0 1]\n",
      " [1 0 0]]\n",
      "[1 1 0]\n",
      "[0 1]\n"
     ]
    }
   ],
   "source": [
    "a = np.random.randint(0, 2, (2,3))\n",
    "b = np.random.randint(0, 2, 3)\n",
    "c = np.dot(a, b)\n",
    "print(a)\n",
    "print(b)\n",
    "print(c)"
   ]
  },
  {
   "cell_type": "markdown",
   "id": "747549dd-c33a-49c6-b48a-7312ccdbeee3",
   "metadata": {},
   "source": [
    "12. Створіть дві матриці розміром 2x2, заповніть їх випадковими цілими числами в діапазоні від 1 до 10 та виконайте їхнє поелементне множення.\r\n"
   ]
  },
  {
   "cell_type": "code",
   "execution_count": 30,
   "id": "e21c7968-155a-4366-a124-33b13e3808fa",
   "metadata": {},
   "outputs": [
    {
     "name": "stdout",
     "output_type": "stream",
     "text": [
      "[[8 4]\n",
      " [3 5]]\n",
      "[[7 4]\n",
      " [3 9]]\n",
      "[[56 16]\n",
      " [ 9 45]]\n"
     ]
    }
   ],
   "source": [
    "a = np.random.randint(1,11, (2, 2))\n",
    "b = np.random.randint(1, 11, (2, 2))\n",
    "c = a * b\n",
    "print(a)\n",
    "print(b)\n",
    "print(c)"
   ]
  },
  {
   "cell_type": "markdown",
   "id": "51a60acd-c005-425d-bfc2-9e28aea4ac13",
   "metadata": {},
   "source": [
    "13. Створіть дві матриці розміром 2x2, заповніть їх випадковими цілими числами в діапазоні від 1 до 10 та знайдіть їх добуток.\r\n"
   ]
  },
  {
   "cell_type": "code",
   "execution_count": 31,
   "id": "460e58cb-1d12-4cdf-8bb4-b7003b2faf62",
   "metadata": {},
   "outputs": [
    {
     "name": "stdout",
     "output_type": "stream",
     "text": [
      "[[8 7]\n",
      " [3 4]]\n",
      "[[1 3]\n",
      " [5 1]]\n",
      "[[43 31]\n",
      " [23 13]]\n"
     ]
    }
   ],
   "source": [
    "a = np.random.randint(1,11, (2, 2))\n",
    "b = np.random.randint(1, 11, (2, 2))\n",
    "c = np.dot (a,b)\n",
    "print(a)\n",
    "print(b)\n",
    "print(c)"
   ]
  },
  {
   "cell_type": "markdown",
   "id": "503b177d-bf83-40bb-843a-9d7eca8c36b3",
   "metadata": {},
   "source": [
    "14. Створіть матрицю розміром 5x5, заповніть її випадковими цілими числами в діапазоні від 1 до 100 та знайдіть суму елементів матриці.\r\n"
   ]
  },
  {
   "cell_type": "code",
   "execution_count": 32,
   "id": "62b6e943-5399-412a-b4d0-a70033e22645",
   "metadata": {},
   "outputs": [
    {
     "name": "stdout",
     "output_type": "stream",
     "text": [
      "[[75 99 58 97  4]\n",
      " [55 37 40 44 38]\n",
      " [ 2 95 10  4 14]\n",
      " [38 93 94 77 50]\n",
      " [49 24 92 67 98]]\n",
      "1354\n"
     ]
    }
   ],
   "source": [
    "a = np.random.randint(1,101, (5, 5))\n",
    "print(a)\n",
    "print(a.sum())"
   ]
  },
  {
   "cell_type": "markdown",
   "id": "a3cb18db-aa87-4ec0-8960-a416e377b22c",
   "metadata": {},
   "source": [
    "15. Створіть дві матриці розміром 4x4, заповніть їх випадковими цілими числами в діапазоні від 1 до 10 та знайдіть їхню різницю.\r\n"
   ]
  },
  {
   "cell_type": "code",
   "execution_count": 33,
   "id": "2f886746-12ef-4ee5-b091-213afcf03f03",
   "metadata": {},
   "outputs": [
    {
     "name": "stdout",
     "output_type": "stream",
     "text": [
      "[[ 3  7  2  3]\n",
      " [ 5  8 10 10]\n",
      " [ 6  5  4  5]\n",
      " [ 2  6  4  5]]\n",
      "[[ 7  1  5  3]\n",
      " [ 6  6  3  2]\n",
      " [ 7  9  6  2]\n",
      " [ 6  1  6 10]]\n",
      "[[-4  6 -3  0]\n",
      " [-1  2  7  8]\n",
      " [-1 -4 -2  3]\n",
      " [-4  5 -2 -5]]\n"
     ]
    }
   ],
   "source": [
    "a = np.random.randint(1,11, (4, 4))\n",
    "b = np.random.randint(1, 11, (4, 4))\n",
    "c = a - b\n",
    "print(a)\n",
    "print(b)\n",
    "print(c)"
   ]
  },
  {
   "cell_type": "markdown",
   "id": "e4a5ebaa-3bb3-4e1e-86d5-4ccc07a5ddea",
   "metadata": {},
   "source": [
    "16. Створіть матрицю розміром 3x3, заповніть її випадковими дійсними числами в діапазоні від 0 до 1 та знайдіть вектор-стовпчик, що містить суму елементів кожного рядка матриці.\r\n"
   ]
  },
  {
   "cell_type": "code",
   "execution_count": 34,
   "id": "badce054-e4f0-415d-9c25-d0f0870d6674",
   "metadata": {},
   "outputs": [
    {
     "name": "stdout",
     "output_type": "stream",
     "text": [
      "[[0 0 0]\n",
      " [0 0 0]\n",
      " [1 1 0]]\n",
      "[0 0 2]\n"
     ]
    }
   ],
   "source": [
    "a = np.random.randint(0,2, (3, 3))\n",
    "b = a.sum(axis=1)\n",
    "print(a)\n",
    "print(b)"
   ]
  },
  {
   "cell_type": "markdown",
   "id": "78ca0f8c-65bc-4276-bc7f-86bad7fb1f8f",
   "metadata": {},
   "source": [
    "17. Створіть матрицю розміром 3x4 з довільними цілими числами і створінь матрицю з квадратами цих чисел.\r\n"
   ]
  },
  {
   "cell_type": "code",
   "execution_count": 35,
   "id": "b50ede74-b86e-44d9-bb98-0c4bd372f69f",
   "metadata": {},
   "outputs": [
    {
     "name": "stdout",
     "output_type": "stream",
     "text": [
      "[[ 4  3  6  7]\n",
      " [ 8  1  3 10]\n",
      " [ 6  2  4  6]]\n",
      "[[ 16   9  36  49]\n",
      " [ 64   1   9 100]\n",
      " [ 36   4  16  36]]\n"
     ]
    }
   ],
   "source": [
    "a = np.random.randint(1, 11, (3, 4))\n",
    "b = a **2\n",
    "print(a)\n",
    "print(b)"
   ]
  },
  {
   "cell_type": "markdown",
   "id": "2ea8fe4b-d7b4-4c41-94e3-a61f0803d276",
   "metadata": {},
   "source": [
    "18. Створіть вектор розміром 4, заповніть його випадковими цілими числами в діапазоні від 1 до 50 та знайдіть вектор з квадратними коренями цих чисел.\r\n"
   ]
  },
  {
   "cell_type": "code",
   "execution_count": 36,
   "id": "996e9638-2678-4cd5-ac63-d358d9c3c1ff",
   "metadata": {},
   "outputs": [
    {
     "name": "stdout",
     "output_type": "stream",
     "text": [
      "[25 11 50 50]\n",
      "[5.         3.31662479 7.07106781 7.07106781]\n"
     ]
    }
   ],
   "source": [
    "a = np.random.randint(1, 51, 4)\n",
    "b = a**0.5\n",
    "print (a)\n",
    "print (b)"
   ]
  }
 ],
 "metadata": {
  "kernelspec": {
   "display_name": "Python 3 (ipykernel)",
   "language": "python",
   "name": "python3"
  },
  "language_info": {
   "codemirror_mode": {
    "name": "ipython",
    "version": 3
   },
   "file_extension": ".py",
   "mimetype": "text/x-python",
   "name": "python",
   "nbconvert_exporter": "python",
   "pygments_lexer": "ipython3",
   "version": "3.10.8"
  }
 },
 "nbformat": 4,
 "nbformat_minor": 5
}
