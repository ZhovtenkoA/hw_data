{
 "cells": [
  {
   "cell_type": "markdown",
   "id": "f64ca91c-0119-4ef4-bdb2-249cd89d51fb",
   "metadata": {},
   "source": [
    "Первая попытка"
   ]
  },
  {
   "cell_type": "code",
   "execution_count": 1,
   "id": "61010b31-5e74-48b6-addf-2736050cc954",
   "metadata": {},
   "outputs": [
    {
     "name": "stdout",
     "output_type": "stream",
     "text": [
      "WARNING:tensorflow:From C:\\Users\\Алексей\\AppData\\Local\\Programs\\Python\\Python311\\Lib\\site-packages\\keras\\src\\losses.py:2976: The name tf.losses.sparse_softmax_cross_entropy is deprecated. Please use tf.compat.v1.losses.sparse_softmax_cross_entropy instead.\n",
      "\n"
     ]
    }
   ],
   "source": [
    "from tensorflow import keras\n",
    "from tensorflow.keras import layers"
   ]
  },
  {
   "cell_type": "code",
   "execution_count": 2,
   "id": "0b01c49f-2b8d-4009-8a2f-61e24babd403",
   "metadata": {},
   "outputs": [],
   "source": [
    "# Загрузка датасета\n",
    "(x_train, y_train), (x_test, y_test) = keras.datasets.fashion_mnist.load_data()"
   ]
  },
  {
   "cell_type": "code",
   "execution_count": 3,
   "id": "3874ff93-a591-4612-9261-6e573630f1b8",
   "metadata": {},
   "outputs": [],
   "source": [
    "# Обработка данных\n",
    "x_train = x_train.astype(\"float32\") / 255.0\n",
    "x_test = x_test.astype(\"float32\") / 255.0"
   ]
  },
  {
   "cell_type": "code",
   "execution_count": 4,
   "id": "c2b4a491-0709-456a-b1af-4a147d053c96",
   "metadata": {},
   "outputs": [],
   "source": [
    "# Конвертация меток в формат one-hot encoding\n",
    "y_train = keras.utils.to_categorical(y_train, num_classes=10)\n",
    "y_test = keras.utils.to_categorical(y_test, num_classes=10)"
   ]
  },
  {
   "cell_type": "code",
   "execution_count": 5,
   "id": "767319b3-9e72-45c4-ac06-1456ae4f3ade",
   "metadata": {},
   "outputs": [
    {
     "name": "stdout",
     "output_type": "stream",
     "text": [
      "WARNING:tensorflow:From C:\\Users\\Алексей\\AppData\\Local\\Programs\\Python\\Python311\\Lib\\site-packages\\keras\\src\\backend.py:873: The name tf.get_default_graph is deprecated. Please use tf.compat.v1.get_default_graph instead.\n",
      "\n"
     ]
    }
   ],
   "source": [
    "# Создание модели\n",
    "model = keras.Sequential()\n",
    "model.add(layers.Flatten(input_shape=(28, 28)))\n",
    "model.add(layers.Dense(128, activation=\"relu\"))\n",
    "model.add(layers.Dense(64, activation=\"relu\"))\n",
    "model.add(layers.Dense(10, activation=\"softmax\"))"
   ]
  },
  {
   "cell_type": "code",
   "execution_count": 6,
   "id": "30dca040-dafa-4b10-b08f-e9725a73f8c8",
   "metadata": {},
   "outputs": [
    {
     "name": "stdout",
     "output_type": "stream",
     "text": [
      "WARNING:tensorflow:From C:\\Users\\Алексей\\AppData\\Local\\Programs\\Python\\Python311\\Lib\\site-packages\\keras\\src\\optimizers\\__init__.py:309: The name tf.train.Optimizer is deprecated. Please use tf.compat.v1.train.Optimizer instead.\n",
      "\n"
     ]
    }
   ],
   "source": [
    "# Компиляция модели\n",
    "model.compile(optimizer=\"adam\", loss=\"categorical_crossentropy\", metrics=[\"accuracy\"])"
   ]
  },
  {
   "cell_type": "code",
   "execution_count": 7,
   "id": "02ac8b83-bac8-4709-b0ba-1abfaf2ff3ae",
   "metadata": {},
   "outputs": [
    {
     "name": "stdout",
     "output_type": "stream",
     "text": [
      "Epoch 1/10\n",
      "WARNING:tensorflow:From C:\\Users\\Алексей\\AppData\\Local\\Programs\\Python\\Python311\\Lib\\site-packages\\keras\\src\\utils\\tf_utils.py:492: The name tf.ragged.RaggedTensorValue is deprecated. Please use tf.compat.v1.ragged.RaggedTensorValue instead.\n",
      "\n",
      "WARNING:tensorflow:From C:\\Users\\Алексей\\AppData\\Local\\Programs\\Python\\Python311\\Lib\\site-packages\\keras\\src\\engine\\base_layer_utils.py:384: The name tf.executing_eagerly_outside_functions is deprecated. Please use tf.compat.v1.executing_eagerly_outside_functions instead.\n",
      "\n",
      "375/375 [==============================] - 2s 4ms/step - loss: 0.5727 - accuracy: 0.8004 - val_loss: 0.4428 - val_accuracy: 0.8434\n",
      "Epoch 2/10\n",
      "375/375 [==============================] - 1s 3ms/step - loss: 0.4051 - accuracy: 0.8560 - val_loss: 0.4236 - val_accuracy: 0.8462\n",
      "Epoch 3/10\n",
      "375/375 [==============================] - 1s 3ms/step - loss: 0.3595 - accuracy: 0.8701 - val_loss: 0.3584 - val_accuracy: 0.8708\n",
      "Epoch 4/10\n",
      "375/375 [==============================] - 1s 3ms/step - loss: 0.3306 - accuracy: 0.8799 - val_loss: 0.3475 - val_accuracy: 0.8751\n",
      "Epoch 5/10\n",
      "375/375 [==============================] - 1s 3ms/step - loss: 0.3153 - accuracy: 0.8845 - val_loss: 0.3367 - val_accuracy: 0.8796\n",
      "Epoch 6/10\n",
      "375/375 [==============================] - 1s 3ms/step - loss: 0.2990 - accuracy: 0.8891 - val_loss: 0.3367 - val_accuracy: 0.8811\n",
      "Epoch 7/10\n",
      "375/375 [==============================] - 1s 3ms/step - loss: 0.2887 - accuracy: 0.8941 - val_loss: 0.3355 - val_accuracy: 0.8808\n",
      "Epoch 8/10\n",
      "375/375 [==============================] - 1s 3ms/step - loss: 0.2731 - accuracy: 0.8993 - val_loss: 0.3441 - val_accuracy: 0.8777\n",
      "Epoch 9/10\n",
      "375/375 [==============================] - 1s 3ms/step - loss: 0.2678 - accuracy: 0.9021 - val_loss: 0.3346 - val_accuracy: 0.8824\n",
      "Epoch 10/10\n",
      "375/375 [==============================] - 1s 3ms/step - loss: 0.2569 - accuracy: 0.9040 - val_loss: 0.3197 - val_accuracy: 0.8880\n"
     ]
    },
    {
     "data": {
      "text/plain": [
       "<keras.src.callbacks.History at 0x2a04e439890>"
      ]
     },
     "execution_count": 7,
     "metadata": {},
     "output_type": "execute_result"
    }
   ],
   "source": [
    "# Тренировка модели\n",
    "model.fit(x_train, y_train, batch_size=128, epochs=10, validation_split=0.2)"
   ]
  },
  {
   "cell_type": "code",
   "execution_count": 8,
   "id": "dfe67be9-b211-4154-b7c1-fcab0a5394d6",
   "metadata": {},
   "outputs": [
    {
     "name": "stdout",
     "output_type": "stream",
     "text": [
      "313/313 [==============================] - 0s 1ms/step - loss: 0.3495 - accuracy: 0.8786\n",
      "Test Accuracy: 0.878600001335144\n"
     ]
    }
   ],
   "source": [
    "# Оцінка точності моделі на тестових даних\n",
    "test_loss, test_accuracy = model.evaluate(x_test, y_test)\n",
    "print(f\"Test Accuracy: {test_accuracy}\")"
   ]
  },
  {
   "cell_type": "markdown",
   "id": "2d566ecd-4f51-4b85-9616-84d03a0492f1",
   "metadata": {},
   "source": [
    "Вариант 2 - Добавление регуляризации Dropout"
   ]
  },
  {
   "cell_type": "code",
   "execution_count": 9,
   "id": "355923e7-770f-4b41-bf7d-1422c14e11db",
   "metadata": {},
   "outputs": [
    {
     "name": "stdout",
     "output_type": "stream",
     "text": [
      "Epoch 1/10\n",
      "375/375 [==============================] - 2s 4ms/step - loss: 0.9871 - accuracy: 0.6456 - val_loss: 0.5260 - val_accuracy: 0.8122\n",
      "Epoch 2/10\n",
      "375/375 [==============================] - 1s 3ms/step - loss: 0.6237 - accuracy: 0.7784 - val_loss: 0.4640 - val_accuracy: 0.8340\n",
      "Epoch 3/10\n",
      "375/375 [==============================] - 1s 3ms/step - loss: 0.5602 - accuracy: 0.8033 - val_loss: 0.4262 - val_accuracy: 0.8448\n",
      "Epoch 4/10\n",
      "375/375 [==============================] - 1s 3ms/step - loss: 0.5187 - accuracy: 0.8205 - val_loss: 0.4028 - val_accuracy: 0.8534\n",
      "Epoch 5/10\n",
      "375/375 [==============================] - 1s 3ms/step - loss: 0.4974 - accuracy: 0.8266 - val_loss: 0.3928 - val_accuracy: 0.8568\n",
      "Epoch 6/10\n",
      "375/375 [==============================] - 1s 3ms/step - loss: 0.4776 - accuracy: 0.8357 - val_loss: 0.3888 - val_accuracy: 0.8558\n",
      "Epoch 7/10\n",
      "375/375 [==============================] - 1s 3ms/step - loss: 0.4662 - accuracy: 0.8383 - val_loss: 0.3914 - val_accuracy: 0.8575\n",
      "Epoch 8/10\n",
      "375/375 [==============================] - 1s 3ms/step - loss: 0.4569 - accuracy: 0.8408 - val_loss: 0.3775 - val_accuracy: 0.8611\n",
      "Epoch 9/10\n",
      "375/375 [==============================] - 1s 3ms/step - loss: 0.4421 - accuracy: 0.8445 - val_loss: 0.3780 - val_accuracy: 0.8639\n",
      "Epoch 10/10\n",
      "375/375 [==============================] - 1s 3ms/step - loss: 0.4365 - accuracy: 0.8480 - val_loss: 0.3598 - val_accuracy: 0.8676\n",
      "313/313 [==============================] - 0s 1ms/step - loss: 0.3823 - accuracy: 0.8624\n",
      "Test Accuracy: 0.8623999953269958\n"
     ]
    }
   ],
   "source": [
    "from tensorflow import keras\n",
    "from tensorflow.keras import layers\n",
    "\n",
    "# Загрузка датасета\n",
    "(x_train, y_train), (x_test, y_test) = keras.datasets.fashion_mnist.load_data()\n",
    "\n",
    "# Обработка данных\n",
    "x_train = x_train.astype(\"float32\") / 255.0\n",
    "x_test = x_test.astype(\"float32\") / 255.0\n",
    "\n",
    "# Конвертация меток в формат one-hot encoding\n",
    "y_train = keras.utils.to_categorical(y_train, num_classes=10)\n",
    "y_test = keras.utils.to_categorical(y_test, num_classes=10)\n",
    "\n",
    "# Создание модели\n",
    "model = keras.Sequential()\n",
    "model.add(layers.Flatten(input_shape=(28, 28)))\n",
    "model.add(layers.Dense(128, activation='relu'))\n",
    "model.add(layers.Dropout(0.5))\n",
    "model.add(layers.Dense(64, activation='relu'))\n",
    "model.add(layers.Dropout(0.5))\n",
    "model.add(layers.Dense(10, activation='softmax'))\n",
    "\n",
    "# Компиляция\n",
    "model.compile(optimizer=\"adam\", loss=\"categorical_crossentropy\", metrics=[\"accuracy\"])\n",
    "\n",
    "# Тренировка\n",
    "model.fit(x_train, y_train, batch_size=128, epochs=10, validation_split=0.2)\n",
    "\n",
    "# Оценка\n",
    "test_loss, test_accuracy = model.evaluate(x_test, y_test)\n",
    "print(f\"Test Accuracy: {test_accuracy}\")"
   ]
  },
  {
   "cell_type": "markdown",
   "id": "c39d1de9-60d8-4b11-b6c0-5a21bad1622e",
   "metadata": {},
   "source": [
    "Вариант 3 - добавление дополнительных сверточных слоев"
   ]
  },
  {
   "cell_type": "code",
   "execution_count": 10,
   "id": "13fd749a-306a-465d-bdae-0ad0e2c7aee5",
   "metadata": {},
   "outputs": [
    {
     "name": "stdout",
     "output_type": "stream",
     "text": [
      "WARNING:tensorflow:From C:\\Users\\Алексей\\AppData\\Local\\Programs\\Python\\Python311\\Lib\\site-packages\\keras\\src\\layers\\pooling\\max_pooling2d.py:161: The name tf.nn.max_pool is deprecated. Please use tf.nn.max_pool2d instead.\n",
      "\n",
      "Epoch 1/10\n",
      "375/375 [==============================] - 9s 21ms/step - loss: 0.5721 - accuracy: 0.7948 - val_loss: 0.4050 - val_accuracy: 0.8578\n",
      "Epoch 2/10\n",
      "375/375 [==============================] - 8s 20ms/step - loss: 0.3639 - accuracy: 0.8700 - val_loss: 0.3373 - val_accuracy: 0.8783\n",
      "Epoch 3/10\n",
      "375/375 [==============================] - 8s 20ms/step - loss: 0.3154 - accuracy: 0.8852 - val_loss: 0.3278 - val_accuracy: 0.8824\n",
      "Epoch 4/10\n",
      "375/375 [==============================] - 8s 21ms/step - loss: 0.2852 - accuracy: 0.8959 - val_loss: 0.3021 - val_accuracy: 0.8938\n",
      "Epoch 5/10\n",
      "375/375 [==============================] - 8s 21ms/step - loss: 0.2618 - accuracy: 0.9051 - val_loss: 0.2783 - val_accuracy: 0.9011\n",
      "Epoch 6/10\n",
      "375/375 [==============================] - 8s 21ms/step - loss: 0.2406 - accuracy: 0.9127 - val_loss: 0.2738 - val_accuracy: 0.9027\n",
      "Epoch 7/10\n",
      "375/375 [==============================] - 8s 21ms/step - loss: 0.2266 - accuracy: 0.9165 - val_loss: 0.2942 - val_accuracy: 0.8930\n",
      "Epoch 8/10\n",
      "375/375 [==============================] - 8s 21ms/step - loss: 0.2053 - accuracy: 0.9254 - val_loss: 0.2754 - val_accuracy: 0.9017\n",
      "Epoch 9/10\n",
      "375/375 [==============================] - 8s 21ms/step - loss: 0.1941 - accuracy: 0.9286 - val_loss: 0.2558 - val_accuracy: 0.9097\n",
      "Epoch 10/10\n",
      "375/375 [==============================] - 8s 21ms/step - loss: 0.1772 - accuracy: 0.9348 - val_loss: 0.2399 - val_accuracy: 0.9156\n",
      "313/313 [==============================] - 1s 3ms/step - loss: 0.2559 - accuracy: 0.9109\n",
      "Test Accuracy: 0.9108999967575073\n"
     ]
    }
   ],
   "source": [
    "from tensorflow import keras\n",
    "from tensorflow.keras import layers\n",
    "\n",
    "# Загрузка датасета\n",
    "(x_train, y_train), (x_test, y_test) = keras.datasets.fashion_mnist.load_data()\n",
    "\n",
    "# Обработка данных\n",
    "x_train = x_train.astype(\"float32\") / 255.0\n",
    "x_test = x_test.astype(\"float32\") / 255.0\n",
    "\n",
    "# Конвертация меток в формат one-hot encoding\n",
    "y_train = keras.utils.to_categorical(y_train, num_classes=10)\n",
    "y_test = keras.utils.to_categorical(y_test, num_classes=10)\n",
    "\n",
    "# Создание модели\n",
    "model = keras.Sequential()\n",
    "model.add(layers.Conv2D(32, (3, 3), activation='relu', input_shape=(28, 28, 1)))\n",
    "model.add(layers.MaxPooling2D((2, 2)))\n",
    "model.add(layers.Conv2D(64, (3, 3), activation='relu'))\n",
    "model.add(layers.MaxPooling2D((2, 2)))\n",
    "model.add(layers.Flatten())\n",
    "model.add(layers.Dense(128, activation='relu'))\n",
    "model.add(layers.Dense(10, activation='softmax'))\n",
    "\n",
    "# Компиляция\n",
    "model.compile(optimizer=\"adam\", loss=\"categorical_crossentropy\", metrics=[\"accuracy\"])\n",
    "\n",
    "# Тренировка\n",
    "model.fit(x_train, y_train, batch_size=128, epochs=10, validation_split=0.2)\n",
    "\n",
    "# Оценка\n",
    "test_loss, test_accuracy = model.evaluate(x_test, y_test)\n",
    "print(f\"Test Accuracy: {test_accuracy}\")"
   ]
  },
  {
   "cell_type": "markdown",
   "id": "dabd4d19-a561-439e-b9c5-0063041a91bf",
   "metadata": {},
   "source": [
    "Вариант 4 - увеличение количества эпох"
   ]
  },
  {
   "cell_type": "code",
   "execution_count": 12,
   "id": "4a1ea93e-bea8-45ec-831d-dc0a5de0af5c",
   "metadata": {},
   "outputs": [
    {
     "name": "stdout",
     "output_type": "stream",
     "text": [
      "Epoch 1/13\n",
      "375/375 [==============================] - 8s 21ms/step - loss: 0.5801 - accuracy: 0.7900 - val_loss: 0.4077 - val_accuracy: 0.8535\n",
      "Epoch 2/13\n",
      "375/375 [==============================] - 8s 21ms/step - loss: 0.3741 - accuracy: 0.8639 - val_loss: 0.3762 - val_accuracy: 0.8625\n",
      "Epoch 3/13\n",
      "375/375 [==============================] - 8s 21ms/step - loss: 0.3249 - accuracy: 0.8816 - val_loss: 0.3251 - val_accuracy: 0.8831\n",
      "Epoch 4/13\n",
      "375/375 [==============================] - 8s 21ms/step - loss: 0.2938 - accuracy: 0.8942 - val_loss: 0.3051 - val_accuracy: 0.8877\n",
      "Epoch 5/13\n",
      "375/375 [==============================] - 8s 21ms/step - loss: 0.2706 - accuracy: 0.9006 - val_loss: 0.3349 - val_accuracy: 0.8816\n",
      "Epoch 6/13\n",
      "375/375 [==============================] - 8s 21ms/step - loss: 0.2506 - accuracy: 0.9088 - val_loss: 0.2861 - val_accuracy: 0.8948\n",
      "Epoch 7/13\n",
      "375/375 [==============================] - 8s 21ms/step - loss: 0.2316 - accuracy: 0.9141 - val_loss: 0.2782 - val_accuracy: 0.8995\n",
      "Epoch 8/13\n",
      "375/375 [==============================] - 8s 21ms/step - loss: 0.2187 - accuracy: 0.9206 - val_loss: 0.2807 - val_accuracy: 0.8964\n",
      "Epoch 9/13\n",
      "375/375 [==============================] - 8s 21ms/step - loss: 0.2035 - accuracy: 0.9245 - val_loss: 0.2698 - val_accuracy: 0.9049\n",
      "Epoch 10/13\n",
      "375/375 [==============================] - 8s 21ms/step - loss: 0.1901 - accuracy: 0.9295 - val_loss: 0.2690 - val_accuracy: 0.9025\n",
      "Epoch 11/13\n",
      "375/375 [==============================] - 8s 21ms/step - loss: 0.1768 - accuracy: 0.9346 - val_loss: 0.2546 - val_accuracy: 0.9102\n",
      "Epoch 12/13\n",
      "375/375 [==============================] - 8s 21ms/step - loss: 0.1621 - accuracy: 0.9417 - val_loss: 0.2472 - val_accuracy: 0.9132\n",
      "Epoch 13/13\n",
      "375/375 [==============================] - 8s 21ms/step - loss: 0.1492 - accuracy: 0.9455 - val_loss: 0.2602 - val_accuracy: 0.9099\n",
      "313/313 [==============================] - 1s 3ms/step - loss: 0.2622 - accuracy: 0.9101\n",
      "Test Accuracy: 0.910099983215332\n"
     ]
    }
   ],
   "source": [
    "from tensorflow import keras\n",
    "from tensorflow.keras import layers\n",
    "\n",
    "# Загрузка датасета\n",
    "(x_train, y_train), (x_test, y_test) = keras.datasets.fashion_mnist.load_data()\n",
    "\n",
    "# Обработка данных\n",
    "x_train = x_train.astype(\"float32\") / 255.0\n",
    "x_test = x_test.astype(\"float32\") / 255.0\n",
    "\n",
    "# Конвертация меток в формат one-hot encoding\n",
    "y_train = keras.utils.to_categorical(y_train, num_classes=10)\n",
    "y_test = keras.utils.to_categorical(y_test, num_classes=10)\n",
    "\n",
    "# Создание модели\n",
    "model = keras.Sequential()\n",
    "model.add(layers.Conv2D(32, (3, 3), activation='relu', input_shape=(28, 28, 1)))\n",
    "model.add(layers.MaxPooling2D((2, 2)))\n",
    "model.add(layers.Conv2D(64, (3, 3), activation='relu'))\n",
    "model.add(layers.MaxPooling2D((2, 2)))\n",
    "model.add(layers.Flatten())\n",
    "model.add(layers.Dense(128, activation='relu'))\n",
    "model.add(layers.Dense(10, activation='softmax'))\n",
    "\n",
    "# Компиляция\n",
    "model.compile(optimizer=\"adam\", loss=\"categorical_crossentropy\", metrics=[\"accuracy\"])\n",
    "\n",
    "# Тренировка\n",
    "model.fit(x_train, y_train, batch_size=128, epochs=13, validation_split=0.2)\n",
    "\n",
    "# Оценка\n",
    "test_loss, test_accuracy = model.evaluate(x_test, y_test)\n",
    "print(f\"Test Accuracy: {test_accuracy}\")"
   ]
  },
  {
   "cell_type": "markdown",
   "id": "49c3fd4d-eeab-4d28-afa1-81358f9a3254",
   "metadata": {},
   "source": [
    "На текущем этапе вариант №4 показал лучшие результаты точости - 91% (Test Accuracy: 0.910099983215332)"
   ]
  },
  {
   "cell_type": "code",
   "execution_count": null,
   "id": "c2386bc7-c106-4304-b0b3-69b93788ccfb",
   "metadata": {},
   "outputs": [],
   "source": []
  }
 ],
 "metadata": {
  "kernelspec": {
   "display_name": "Python 3 (ipykernel)",
   "language": "python",
   "name": "python3"
  },
  "language_info": {
   "codemirror_mode": {
    "name": "ipython",
    "version": 3
   },
   "file_extension": ".py",
   "mimetype": "text/x-python",
   "name": "python",
   "nbconvert_exporter": "python",
   "pygments_lexer": "ipython3",
   "version": "3.11.7"
  }
 },
 "nbformat": 4,
 "nbformat_minor": 5
}
