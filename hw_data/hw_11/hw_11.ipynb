{
 "cells": [
  {
   "cell_type": "code",
   "execution_count": 1,
   "id": "09048f4a-22c0-4014-a666-834fc5283b44",
   "metadata": {},
   "outputs": [
    {
     "name": "stdout",
     "output_type": "stream",
     "text": [
      "WARNING:tensorflow:From C:\\Users\\Алексей\\AppData\\Local\\Programs\\Python\\Python311\\Lib\\site-packages\\keras\\src\\losses.py:2976: The name tf.losses.sparse_softmax_cross_entropy is deprecated. Please use tf.compat.v1.losses.sparse_softmax_cross_entropy instead.\n",
      "\n"
     ]
    }
   ],
   "source": [
    "import numpy as np\n",
    "from tensorflow import keras\n",
    "from tensorflow.keras.datasets import imdb\n",
    "from tensorflow.keras.models import Sequential\n",
    "from tensorflow.keras.layers import Embedding, SimpleRNN, LSTM, Bidirectional, Dense\n",
    "from tensorflow.keras.preprocessing import sequence"
   ]
  },
  {
   "cell_type": "code",
   "execution_count": 2,
   "id": "c89aa4ff-de61-4e30-b69c-9784d37ee2ce",
   "metadata": {},
   "outputs": [
    {
     "name": "stdout",
     "output_type": "stream",
     "text": [
      "Downloading data from https://storage.googleapis.com/tensorflow/tf-keras-datasets/imdb.npz\n",
      "17464789/17464789 [==============================] - 1s 0us/step\n"
     ]
    }
   ],
   "source": [
    "max_features = 5000  # кількість слів, які будуть використовуватись в словнику\n",
    "maxlen = 500  # максимальна довжина рецензії\n",
    "\n",
    "(x_train, y_train), (x_test, y_test) = imdb.load_data(num_words=max_features)\n",
    "\n",
    "x_train = sequence.pad_sequences(x_train, maxlen=maxlen)\n",
    "x_test = sequence.pad_sequences(x_test, maxlen=maxlen)"
   ]
  },
  {
   "cell_type": "markdown",
   "id": "5fdd9803-66d0-453c-9852-e1e4b00b77ba",
   "metadata": {},
   "source": [
    "Модель RNN"
   ]
  },
  {
   "cell_type": "code",
   "execution_count": 3,
   "id": "f881bb78-576c-4349-93cb-cde9ae67460a",
   "metadata": {},
   "outputs": [
    {
     "name": "stdout",
     "output_type": "stream",
     "text": [
      "WARNING:tensorflow:From C:\\Users\\Алексей\\AppData\\Local\\Programs\\Python\\Python311\\Lib\\site-packages\\keras\\src\\backend.py:873: The name tf.get_default_graph is deprecated. Please use tf.compat.v1.get_default_graph instead.\n",
      "\n",
      "WARNING:tensorflow:From C:\\Users\\Алексей\\AppData\\Local\\Programs\\Python\\Python311\\Lib\\site-packages\\keras\\src\\optimizers\\__init__.py:309: The name tf.train.Optimizer is deprecated. Please use tf.compat.v1.train.Optimizer instead.\n",
      "\n"
     ]
    }
   ],
   "source": [
    "model = Sequential()\n",
    "model.add(Embedding(max_features, 32))  # вбудовуємо слова у вектори\n",
    "model.add(SimpleRNN(32))  # додаємо просту RNN\n",
    "model.add(Dense(1, activation='sigmoid'))  # додаємо повнозв'язний шар з активацією sigmoid для класифікації\n",
    "\n",
    "model.compile(optimizer='rmsprop', loss='binary_crossentropy', metrics=['accuracy'])"
   ]
  },
  {
   "cell_type": "code",
   "execution_count": 4,
   "id": "2426a7b8-bb49-4a79-8e9a-3c6a11a3703f",
   "metadata": {},
   "outputs": [
    {
     "name": "stdout",
     "output_type": "stream",
     "text": [
      "Epoch 1/10\n",
      "WARNING:tensorflow:From C:\\Users\\Алексей\\AppData\\Local\\Programs\\Python\\Python311\\Lib\\site-packages\\keras\\src\\utils\\tf_utils.py:492: The name tf.ragged.RaggedTensorValue is deprecated. Please use tf.compat.v1.ragged.RaggedTensorValue instead.\n",
      "\n",
      "WARNING:tensorflow:From C:\\Users\\Алексей\\AppData\\Local\\Programs\\Python\\Python311\\Lib\\site-packages\\keras\\src\\engine\\base_layer_utils.py:384: The name tf.executing_eagerly_outside_functions is deprecated. Please use tf.compat.v1.executing_eagerly_outside_functions instead.\n",
      "\n",
      "196/196 [==============================] - 17s 81ms/step - loss: 0.6338 - accuracy: 0.6244 - val_loss: 0.5178 - val_accuracy: 0.7493\n",
      "Epoch 2/10\n",
      "196/196 [==============================] - 16s 83ms/step - loss: 0.4380 - accuracy: 0.8083 - val_loss: 0.3940 - val_accuracy: 0.8337\n",
      "Epoch 3/10\n",
      "196/196 [==============================] - 16s 81ms/step - loss: 0.3478 - accuracy: 0.8581 - val_loss: 0.4208 - val_accuracy: 0.8290\n",
      "Epoch 4/10\n",
      "196/196 [==============================] - 16s 84ms/step - loss: 0.2957 - accuracy: 0.8787 - val_loss: 0.3851 - val_accuracy: 0.8469\n",
      "Epoch 5/10\n",
      "196/196 [==============================] - 18s 90ms/step - loss: 0.2402 - accuracy: 0.9054 - val_loss: 0.3870 - val_accuracy: 0.8458\n",
      "Epoch 6/10\n",
      "196/196 [==============================] - 18s 92ms/step - loss: 0.1956 - accuracy: 0.9242 - val_loss: 0.5184 - val_accuracy: 0.7772\n",
      "Epoch 7/10\n",
      "196/196 [==============================] - 19s 96ms/step - loss: 0.1531 - accuracy: 0.9423 - val_loss: 0.5019 - val_accuracy: 0.8305\n",
      "Epoch 8/10\n",
      "196/196 [==============================] - 17s 84ms/step - loss: 0.1181 - accuracy: 0.9578 - val_loss: 0.4643 - val_accuracy: 0.8342\n",
      "Epoch 9/10\n",
      "196/196 [==============================] - 17s 89ms/step - loss: 0.0876 - accuracy: 0.9718 - val_loss: 0.5274 - val_accuracy: 0.8385\n",
      "Epoch 10/10\n",
      "196/196 [==============================] - 16s 80ms/step - loss: 0.0619 - accuracy: 0.9802 - val_loss: 0.6078 - val_accuracy: 0.8140\n"
     ]
    },
    {
     "data": {
      "text/plain": [
       "<keras.src.callbacks.History at 0x142c67bbe50>"
      ]
     },
     "execution_count": 4,
     "metadata": {},
     "output_type": "execute_result"
    }
   ],
   "source": [
    "model.fit(x_train, y_train, batch_size=128, epochs=10, validation_data=(x_test, y_test))"
   ]
  },
  {
   "cell_type": "code",
   "execution_count": 5,
   "id": "716cab22-37fd-44e6-9270-15ead862d0a8",
   "metadata": {},
   "outputs": [
    {
     "name": "stdout",
     "output_type": "stream",
     "text": [
      "Base RNN Accuracy: 81.40%\n"
     ]
    }
   ],
   "source": [
    "# Оцінка базової моделі RNN\n",
    "scores_rnn = model.evaluate(x_test, y_test, verbose=0)\n",
    "print(\"Base RNN Accuracy: %.2f%%\" % (scores_rnn[1] * 100))"
   ]
  },
  {
   "cell_type": "markdown",
   "id": "7a4f0377-10d7-490e-9b24-ec17e9e0fcff",
   "metadata": {},
   "source": [
    "Модель LSTM"
   ]
  },
  {
   "cell_type": "code",
   "execution_count": 6,
   "id": "c8c1f125-604c-410b-a265-cfbca20bad64",
   "metadata": {},
   "outputs": [
    {
     "name": "stdout",
     "output_type": "stream",
     "text": [
      "Epoch 1/10\n",
      "196/196 [==============================] - 42s 205ms/step - loss: 0.5839 - accuracy: 0.6812 - val_loss: 0.6322 - val_accuracy: 0.6793\n",
      "Epoch 2/10\n",
      "196/196 [==============================] - 40s 204ms/step - loss: 0.3514 - accuracy: 0.8549 - val_loss: 0.3112 - val_accuracy: 0.8753\n",
      "Epoch 3/10\n",
      "196/196 [==============================] - 43s 219ms/step - loss: 0.2818 - accuracy: 0.8877 - val_loss: 0.3497 - val_accuracy: 0.8659\n",
      "Epoch 4/10\n",
      "196/196 [==============================] - 46s 237ms/step - loss: 0.2559 - accuracy: 0.9003 - val_loss: 0.3210 - val_accuracy: 0.8743\n",
      "Epoch 5/10\n",
      "196/196 [==============================] - 47s 242ms/step - loss: 0.2348 - accuracy: 0.9115 - val_loss: 0.3038 - val_accuracy: 0.8812\n",
      "Epoch 6/10\n",
      "196/196 [==============================] - 49s 252ms/step - loss: 0.2201 - accuracy: 0.9158 - val_loss: 0.2982 - val_accuracy: 0.8809\n",
      "Epoch 7/10\n",
      "196/196 [==============================] - 48s 243ms/step - loss: 0.2076 - accuracy: 0.9220 - val_loss: 0.2960 - val_accuracy: 0.8774\n",
      "Epoch 8/10\n",
      "196/196 [==============================] - 40s 205ms/step - loss: 0.1949 - accuracy: 0.9285 - val_loss: 0.3354 - val_accuracy: 0.8729\n",
      "Epoch 9/10\n",
      "196/196 [==============================] - 40s 204ms/step - loss: 0.1835 - accuracy: 0.9317 - val_loss: 0.3052 - val_accuracy: 0.8801\n",
      "Epoch 10/10\n",
      "196/196 [==============================] - 54s 276ms/step - loss: 0.1755 - accuracy: 0.9360 - val_loss: 0.3221 - val_accuracy: 0.8733\n"
     ]
    },
    {
     "data": {
      "text/plain": [
       "<keras.src.callbacks.History at 0x142bca6ad10>"
      ]
     },
     "execution_count": 6,
     "metadata": {},
     "output_type": "execute_result"
    }
   ],
   "source": [
    "model = Sequential()\n",
    "model.add(Embedding(max_features, 32))  # вбудовуємо слова у вектори\n",
    "model.add(LSTM(32))  # додаємо LSTM шар\n",
    "model.add(Dense(1, activation='sigmoid'))  # додаємо повнозв'язний шар з активацією sigmoid для класифікації\n",
    "\n",
    "model.compile(optimizer='rmsprop', loss='binary_crossentropy', metrics=['accuracy'])\n",
    "\n",
    "model.fit(x_train, y_train, batch_size=128, epochs=10, validation_data=(x_test, y_test))"
   ]
  },
  {
   "cell_type": "code",
   "execution_count": 7,
   "id": "bd94bc83-1d46-4e52-867c-6578402dab76",
   "metadata": {},
   "outputs": [
    {
     "name": "stdout",
     "output_type": "stream",
     "text": [
      "LSTM Accuracy: 87.33%\n"
     ]
    }
   ],
   "source": [
    "# Оцінка моделі з LSTM шарами\n",
    "scores_lstm = model.evaluate(x_test, y_test, verbose=0)\n",
    "print(\"LSTM Accuracy: %.2f%%\" % (scores_lstm[1] * 100))"
   ]
  },
  {
   "cell_type": "markdown",
   "id": "868b51a2-9463-4db3-8129-ba9c99413635",
   "metadata": {},
   "source": [
    "Двостороння модель"
   ]
  },
  {
   "cell_type": "code",
   "execution_count": 8,
   "id": "5588e328-715c-4823-825b-524d53cd076e",
   "metadata": {},
   "outputs": [
    {
     "name": "stdout",
     "output_type": "stream",
     "text": [
      "Epoch 1/10\n",
      "196/196 [==============================] - 24s 114ms/step - loss: 0.5888 - accuracy: 0.6804 - val_loss: 0.4816 - val_accuracy: 0.7802\n",
      "Epoch 2/10\n",
      "196/196 [==============================] - 28s 142ms/step - loss: 0.4013 - accuracy: 0.8301 - val_loss: 0.4180 - val_accuracy: 0.8170\n",
      "Epoch 3/10\n",
      "196/196 [==============================] - 23s 115ms/step - loss: 0.3427 - accuracy: 0.8582 - val_loss: 0.4024 - val_accuracy: 0.8194\n",
      "Epoch 4/10\n",
      "196/196 [==============================] - 23s 116ms/step - loss: 0.3104 - accuracy: 0.8737 - val_loss: 0.4257 - val_accuracy: 0.8020\n",
      "Epoch 5/10\n",
      "196/196 [==============================] - 23s 115ms/step - loss: 0.2944 - accuracy: 0.8838 - val_loss: 0.8935 - val_accuracy: 0.7011\n",
      "Epoch 6/10\n",
      "196/196 [==============================] - 23s 116ms/step - loss: 0.2787 - accuracy: 0.8924 - val_loss: 0.3727 - val_accuracy: 0.8430\n",
      "Epoch 7/10\n",
      "196/196 [==============================] - 23s 118ms/step - loss: 0.2392 - accuracy: 0.9072 - val_loss: 0.3699 - val_accuracy: 0.8598\n",
      "Epoch 8/10\n",
      "196/196 [==============================] - 23s 116ms/step - loss: 0.2113 - accuracy: 0.9202 - val_loss: 0.3803 - val_accuracy: 0.8610\n",
      "Epoch 9/10\n",
      "196/196 [==============================] - 22s 114ms/step - loss: 0.1907 - accuracy: 0.9292 - val_loss: 0.3782 - val_accuracy: 0.8573\n",
      "Epoch 10/10\n",
      "196/196 [==============================] - 23s 115ms/step - loss: 0.1646 - accuracy: 0.9394 - val_loss: 0.4013 - val_accuracy: 0.8602\n"
     ]
    },
    {
     "data": {
      "text/plain": [
       "<keras.src.callbacks.History at 0x142bf1f3750>"
      ]
     },
     "execution_count": 8,
     "metadata": {},
     "output_type": "execute_result"
    }
   ],
   "source": [
    "model = Sequential()\n",
    "model.add(Embedding(max_features, 32))  # вбудовуємо слова у вектори\n",
    "model.add(Bidirectional(SimpleRNN(32)))  # додаємо двосторонню мережу з простою RNN\n",
    "model.add(Dense(1, activation='sigmoid'))  # додаємо повнозв'язний шар з активацією sigmoid для класифікації\n",
    "\n",
    "model.compile(optimizer='rmsprop', loss='binary_crossentropy', metrics=['accuracy'])\n",
    "\n",
    "model.fit(x_train, y_train, batch_size=128, epochs=10, validation_data=(x_test, y_test))"
   ]
  },
  {
   "cell_type": "code",
   "execution_count": 9,
   "id": "9500ed3d-6422-41d9-8024-5369be5c912c",
   "metadata": {},
   "outputs": [
    {
     "name": "stdout",
     "output_type": "stream",
     "text": [
      "Bidirectional RNN Accuracy: 86.02%\n"
     ]
    }
   ],
   "source": [
    "# Оцінка моделі з Bidirectional RNN\n",
    "scores_lstm = model.evaluate(x_test, y_test, verbose=0)\n",
    "print(\"Bidirectional RNN Accuracy: %.2f%%\" % (scores_lstm[1] * 100))"
   ]
  },
  {
   "cell_type": "markdown",
   "id": "7ffbf819-38b6-4bdf-90f3-54d52f2dd101",
   "metadata": {},
   "source": [
    "Глибока модель"
   ]
  },
  {
   "cell_type": "code",
   "execution_count": 10,
   "id": "fc907323-f24f-46f4-8ed7-f6102541e7de",
   "metadata": {},
   "outputs": [
    {
     "name": "stdout",
     "output_type": "stream",
     "text": [
      "Epoch 1/10\n",
      "196/196 [==============================] - 114s 571ms/step - loss: 0.5403 - accuracy: 0.7034 - val_loss: 0.4019 - val_accuracy: 0.8376\n",
      "Epoch 2/10\n",
      "196/196 [==============================] - 113s 579ms/step - loss: 0.3335 - accuracy: 0.8627 - val_loss: 0.3491 - val_accuracy: 0.8482\n",
      "Epoch 3/10\n",
      "196/196 [==============================] - 112s 572ms/step - loss: 0.2766 - accuracy: 0.8911 - val_loss: 0.3048 - val_accuracy: 0.8778\n",
      "Epoch 4/10\n",
      "196/196 [==============================] - 113s 578ms/step - loss: 0.2497 - accuracy: 0.9028 - val_loss: 0.2928 - val_accuracy: 0.8779\n",
      "Epoch 5/10\n",
      "196/196 [==============================] - 111s 569ms/step - loss: 0.2287 - accuracy: 0.9108 - val_loss: 0.2872 - val_accuracy: 0.8810\n",
      "Epoch 6/10\n",
      "196/196 [==============================] - 112s 570ms/step - loss: 0.2083 - accuracy: 0.9218 - val_loss: 0.3065 - val_accuracy: 0.8715\n",
      "Epoch 7/10\n",
      "196/196 [==============================] - 98s 500ms/step - loss: 0.1972 - accuracy: 0.9247 - val_loss: 0.3310 - val_accuracy: 0.8798\n",
      "Epoch 8/10\n",
      "196/196 [==============================] - 99s 503ms/step - loss: 0.1838 - accuracy: 0.9313 - val_loss: 0.3421 - val_accuracy: 0.8786\n",
      "Epoch 9/10\n",
      "196/196 [==============================] - 88s 452ms/step - loss: 0.1669 - accuracy: 0.9395 - val_loss: 0.3706 - val_accuracy: 0.8492\n",
      "Epoch 10/10\n",
      "196/196 [==============================] - 99s 504ms/step - loss: 0.1543 - accuracy: 0.9443 - val_loss: 0.3739 - val_accuracy: 0.8656\n"
     ]
    },
    {
     "data": {
      "text/plain": [
       "<keras.src.callbacks.History at 0x142bf4f2390>"
      ]
     },
     "execution_count": 10,
     "metadata": {},
     "output_type": "execute_result"
    }
   ],
   "source": [
    "model = Sequential()\n",
    "model.add(Embedding(max_features, 32))  # вбудовуємо слова у вектори\n",
    "model.add(LSTM(32, return_sequences=True))  # додаємо перший LSTM шар з поверненням послідовностей\n",
    "model.add(LSTM(32))  # додаємо другий LSTM шар\n",
    "model.add(Dense(1, activation='sigmoid'))  # додаємо повнозв'язний шар з активацією sigmoid для класифікації\n",
    "\n",
    "model.compile(optimizer='rmsprop', loss='binary_crossentropy', metrics=['accuracy'])\n",
    "\n",
    "model.fit(x_train, y_train, batch_size=128, epochs=10, validation_data=(x_test, y_test))"
   ]
  },
  {
   "cell_type": "code",
   "execution_count": 11,
   "id": "22cd31a7-f7aa-4bec-b1e9-4d3e8cb6bf1e",
   "metadata": {},
   "outputs": [
    {
     "name": "stdout",
     "output_type": "stream",
     "text": [
      "Deep LSTM Accuracy: 86.56%\n"
     ]
    }
   ],
   "source": [
    "# Оцінка моделі з глибокою мережею LSTM\n",
    "scores_deep_lstm = model.evaluate(x_test, y_test, verbose=0)\n",
    "print(\"Deep LSTM Accuracy: %.2f%%\" % (scores_deep_lstm[1] * 100))"
   ]
  },
  {
   "cell_type": "markdown",
   "id": "8ce43a68-4828-4bbf-a28e-abe7bfb93a20",
   "metadata": {},
   "source": [
    "Результати:\n",
    "- Base RNN Accuracy: 81.40%\n",
    "- LSTM Accuracy: 87.33%\n",
    "- Bidirectional RNN Accuracy: 86.02%\n",
    "- Deep LSTM Accuracy: 86.56%\n",
    "\n",
    "В цілому результати точності (за винятком Base RNN) схожі, але все ж для данного випадку кращим вибором є LSTM модель, адже вона була доволі швидкою при максимальному результату точності. "
   ]
  },
  {
   "cell_type": "code",
   "execution_count": null,
   "id": "a4cb898b-7887-4adb-9332-e7c8ca030302",
   "metadata": {},
   "outputs": [],
   "source": []
  }
 ],
 "metadata": {
  "kernelspec": {
   "display_name": "Python 3 (ipykernel)",
   "language": "python",
   "name": "python3"
  },
  "language_info": {
   "codemirror_mode": {
    "name": "ipython",
    "version": 3
   },
   "file_extension": ".py",
   "mimetype": "text/x-python",
   "name": "python",
   "nbconvert_exporter": "python",
   "pygments_lexer": "ipython3",
   "version": "3.11.7"
  }
 },
 "nbformat": 4,
 "nbformat_minor": 5
}
